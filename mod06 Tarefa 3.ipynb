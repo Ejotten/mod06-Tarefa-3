{
 "cells": [
  {
   "cell_type": "markdown",
   "metadata": {},
   "source": [
    "# Módulo 6 tarefa 3\n",
    "\n",
    "#### 1) A base 'sinasc_RO_2019.csv' contém dados do sistema de nascidos vivos do DataSUS, cujo dicionário de dados está no arquivo 'Estrutura_SINASC_para_CD.pdf'. Carregue esse arquivo."
   ]
  },
  {
   "cell_type": "code",
   "execution_count": 1,
   "metadata": {},
   "outputs": [],
   "source": [
    "import pandas as pd\n",
    "import matplotlib.pyplot as plt\n",
    "import seaborn as sns\n",
    "%matplotlib inline"
   ]
  },
  {
   "cell_type": "code",
   "execution_count": 2,
   "metadata": {},
   "outputs": [],
   "source": [
    "sinasc = pd.read_csv('SINASC_RO_2019.csv')"
   ]
  },
  {
   "cell_type": "code",
   "execution_count": 3,
   "metadata": {},
   "outputs": [
    {
     "name": "stdout",
     "output_type": "stream",
     "text": [
      "<class 'pandas.core.frame.DataFrame'>\n",
      "RangeIndex: 27028 entries, 0 to 27027\n",
      "Data columns (total 69 columns):\n",
      " #   Column        Non-Null Count  Dtype  \n",
      "---  ------        --------------  -----  \n",
      " 0   ORIGEM        27028 non-null  int64  \n",
      " 1   CODESTAB      26913 non-null  float64\n",
      " 2   CODMUNNASC    27028 non-null  int64  \n",
      " 3   LOCNASC       27028 non-null  int64  \n",
      " 4   IDADEMAE      27028 non-null  int64  \n",
      " 5   ESTCIVMAE     26711 non-null  float64\n",
      " 6   ESCMAE        26716 non-null  object \n",
      " 7   CODOCUPMAE    24121 non-null  float64\n",
      " 8   QTDFILVIVO    25455 non-null  float64\n",
      " 9   QTDFILMORT    24930 non-null  float64\n",
      " 10  CODMUNRES     27028 non-null  int64  \n",
      " 11  GESTACAO      25796 non-null  object \n",
      " 12  GRAVIDEZ      26949 non-null  object \n",
      " 13  PARTO         26979 non-null  object \n",
      " 14  CONSULTAS     27028 non-null  int64  \n",
      " 15  DTNASC        27028 non-null  object \n",
      " 16  HORANASC      27007 non-null  float64\n",
      " 17  SEXO          27024 non-null  object \n",
      " 18  APGAR1        26932 non-null  float64\n",
      " 19  APGAR5        26925 non-null  float64\n",
      " 20  RACACOR       26381 non-null  object \n",
      " 21  PESO          27028 non-null  int64  \n",
      " 22  IDANOMAL      26437 non-null  float64\n",
      " 23  DTCADASTRO    27028 non-null  object \n",
      " 24  CODANOMAL     214 non-null    object \n",
      " 25  NUMEROLOTE    27028 non-null  int64  \n",
      " 26  VERSAOSIST    27028 non-null  object \n",
      " 27  DTRECEBIM     27028 non-null  object \n",
      " 28  DIFDATA       27028 non-null  int64  \n",
      " 29  DTRECORIGA    0 non-null      float64\n",
      " 30  NATURALMAE    26730 non-null  float64\n",
      " 31  CODMUNNATU    26730 non-null  float64\n",
      " 32  CODUFNATU     26730 non-null  float64\n",
      " 33  ESCMAE2010    26779 non-null  float64\n",
      " 34  SERIESCMAE    14318 non-null  float64\n",
      " 35  DTNASCMAE     26988 non-null  float64\n",
      " 36  RACACORMAE    26367 non-null  float64\n",
      " 37  QTDGESTANT    25816 non-null  float64\n",
      " 38  QTDPARTNOR    25149 non-null  float64\n",
      " 39  QTDPARTCES    25237 non-null  float64\n",
      " 40  IDADEPAI      7607 non-null   float64\n",
      " 41  DTULTMENST    16956 non-null  float64\n",
      " 42  SEMAGESTAC    25790 non-null  float64\n",
      " 43  TPMETESTIM    25790 non-null  float64\n",
      " 44  CONSPRENAT    26098 non-null  float64\n",
      " 45  MESPRENAT     24161 non-null  float64\n",
      " 46  TPAPRESENT    26763 non-null  float64\n",
      " 47  STTRABPART    26081 non-null  float64\n",
      " 48  STCESPARTO    26281 non-null  float64\n",
      " 49  TPNASCASSI    26967 non-null  float64\n",
      " 50  TPFUNCRESP    26961 non-null  float64\n",
      " 51  TPDOCRESP     27014 non-null  float64\n",
      " 52  DTDECLARAC    26976 non-null  float64\n",
      " 53  ESCMAEAGR1    26779 non-null  float64\n",
      " 54  STDNEPIDEM    27028 non-null  int64  \n",
      " 55  STDNNOVA      27028 non-null  int64  \n",
      " 56  CODPAISRES    27028 non-null  int64  \n",
      " 57  TPROBSON      27028 non-null  int64  \n",
      " 58  PARIDADE      27028 non-null  int64  \n",
      " 59  KOTELCHUCK    27028 non-null  int64  \n",
      " 60  CONTADOR      27028 non-null  int64  \n",
      " 61  munResStatus  27028 non-null  object \n",
      " 62  munResTipo    27028 non-null  object \n",
      " 63  munResNome    27028 non-null  object \n",
      " 64  munResUf      27028 non-null  object \n",
      " 65  munResLat     27027 non-null  float64\n",
      " 66  munResLon     27027 non-null  float64\n",
      " 67  munResAlt     27027 non-null  float64\n",
      " 68  munResArea    27027 non-null  float64\n",
      "dtypes: float64(38), int64(16), object(15)\n",
      "memory usage: 14.2+ MB\n"
     ]
    }
   ],
   "source": [
    "sinasc.info()"
   ]
  },
  {
   "cell_type": "markdown",
   "metadata": {},
   "source": [
    "#### 2) Categorize a variável APGAR5 conforme as seguintes quebras:\n",
    "\n",
    "- 0 a 3: 'asfixia grave'\n",
    "- 4 a 5: 'asfixia moderada'\n",
    "- 6 a 7: 'asfixia leve'\n",
    "- 8 a 10: 'normal'"
   ]
  },
  {
   "cell_type": "code",
   "execution_count": 4,
   "metadata": {},
   "outputs": [
    {
     "data": {
      "text/plain": [
       "normal              26463\n",
       "asfixia leve          320\n",
       "asfixia severa         74\n",
       "asfixia moderada       68\n",
       "Name: asf_cat, dtype: int64"
      ]
     },
     "execution_count": 4,
     "metadata": {},
     "output_type": "execute_result"
    }
   ],
   "source": [
    "sinasc = sinasc.dropna(subset=['APGAR5'])\n",
    "\n",
    "\n",
    "sinasc.loc[sinasc['APGAR5'] <= 3, 'asf_cat'] = 'asfixia severa'\n",
    "sinasc.loc[(sinasc['APGAR5'] > 3) & (sinasc['APGAR5'] <= 5),\n",
    "       'asf_cat'] = 'asfixia moderada'\n",
    "sinasc.loc[(sinasc['APGAR5'] > 5) & (sinasc['APGAR5'] <= 7),\n",
    "       'asf_cat'] = 'asfixia leve'\n",
    "sinasc.loc[(sinasc['APGAR5'] > 7), 'asf_cat'] = 'normal'\n",
    "sinasc['asf_cat'].value_counts()"
   ]
  },
  {
   "cell_type": "markdown",
   "metadata": {},
   "source": [
    "#### 3) Monte um gráfico comparando a distribuição de APGAR5 por sexo para cada grupo de tempo de gestação (GESTACAO)."
   ]
  },
  {
   "cell_type": "code",
   "execution_count": 5,
   "metadata": {},
   "outputs": [
    {
     "data": {
      "text/plain": [
       "<seaborn.axisgrid.FacetGrid at 0x1a1d859f310>"
      ]
     },
     "execution_count": 5,
     "metadata": {},
     "output_type": "execute_result"
    },
    {
     "data": {
      "image/png": "[encoded data removed]",
      "text/plain": [
       "<Figure size 619.125x500 with 1 Axes>"
      ]
     },
     "metadata": {},
     "output_type": "display_data"
    }
   ],
   "source": [
    "#distribuição de APGAR5 por sexo E TEMPO DE GESTAÇÃO\n",
    "sns.catplot(x='APGAR5', y='GESTACAO'\n",
    "            , hue = 'SEXO'\n",
    "            , kind='bar'\n",
    "            , data=sinasc\n",
    "           )"
   ]
  },
  {
   "cell_type": "markdown",
   "metadata": {},
   "source": [
    "####  4) Monte uma tabela cruzada com APGAR5 nas colunas e GESTACAO nas linhas"
   ]
  },
  {
   "cell_type": "code",
   "execution_count": 6,
   "metadata": {},
   "outputs": [
    {
     "data": {
      "text/html": [
       "<div>\n",
       "<style scoped>\n",
       "    .dataframe tbody tr th:only-of-type {\n",
       "        vertical-align: middle;\n",
       "    }\n",
       "\n",
       "    .dataframe tbody tr th {\n",
       "        vertical-align: top;\n",
       "    }\n",
       "\n",
       "    .dataframe thead th {\n",
       "        text-align: right;\n",
       "    }\n",
       "</style>\n",
       "<table border=\"1\" class=\"dataframe\">\n",
       "  <thead>\n",
       "    <tr style=\"text-align: right;\">\n",
       "      <th>GESTACAO</th>\n",
       "      <th>22 a 27 semanas</th>\n",
       "      <th>28 a 31 semanas</th>\n",
       "      <th>32 a 36 semanas</th>\n",
       "      <th>37 a 41 semanas</th>\n",
       "      <th>42 semanas e mais</th>\n",
       "      <th>Menos de 22 semanas</th>\n",
       "    </tr>\n",
       "    <tr>\n",
       "      <th>APGAR5</th>\n",
       "      <th></th>\n",
       "      <th></th>\n",
       "      <th></th>\n",
       "      <th></th>\n",
       "      <th></th>\n",
       "      <th></th>\n",
       "    </tr>\n",
       "  </thead>\n",
       "  <tbody>\n",
       "    <tr>\n",
       "      <th>0.0</th>\n",
       "      <td>7</td>\n",
       "      <td>0</td>\n",
       "      <td>2</td>\n",
       "      <td>5</td>\n",
       "      <td>1</td>\n",
       "      <td>1</td>\n",
       "    </tr>\n",
       "    <tr>\n",
       "      <th>1.0</th>\n",
       "      <td>0</td>\n",
       "      <td>0</td>\n",
       "      <td>2</td>\n",
       "      <td>20</td>\n",
       "      <td>0</td>\n",
       "      <td>0</td>\n",
       "    </tr>\n",
       "    <tr>\n",
       "      <th>2.0</th>\n",
       "      <td>8</td>\n",
       "      <td>2</td>\n",
       "      <td>2</td>\n",
       "      <td>3</td>\n",
       "      <td>0</td>\n",
       "      <td>1</td>\n",
       "    </tr>\n",
       "    <tr>\n",
       "      <th>3.0</th>\n",
       "      <td>6</td>\n",
       "      <td>1</td>\n",
       "      <td>2</td>\n",
       "      <td>5</td>\n",
       "      <td>0</td>\n",
       "      <td>0</td>\n",
       "    </tr>\n",
       "    <tr>\n",
       "      <th>4.0</th>\n",
       "      <td>1</td>\n",
       "      <td>5</td>\n",
       "      <td>8</td>\n",
       "      <td>7</td>\n",
       "      <td>0</td>\n",
       "      <td>0</td>\n",
       "    </tr>\n",
       "    <tr>\n",
       "      <th>5.0</th>\n",
       "      <td>0</td>\n",
       "      <td>7</td>\n",
       "      <td>11</td>\n",
       "      <td>21</td>\n",
       "      <td>1</td>\n",
       "      <td>0</td>\n",
       "    </tr>\n",
       "    <tr>\n",
       "      <th>6.0</th>\n",
       "      <td>2</td>\n",
       "      <td>7</td>\n",
       "      <td>17</td>\n",
       "      <td>45</td>\n",
       "      <td>1</td>\n",
       "      <td>0</td>\n",
       "    </tr>\n",
       "    <tr>\n",
       "      <th>7.0</th>\n",
       "      <td>10</td>\n",
       "      <td>11</td>\n",
       "      <td>56</td>\n",
       "      <td>151</td>\n",
       "      <td>5</td>\n",
       "      <td>1</td>\n",
       "    </tr>\n",
       "    <tr>\n",
       "      <th>8.0</th>\n",
       "      <td>24</td>\n",
       "      <td>61</td>\n",
       "      <td>362</td>\n",
       "      <td>1417</td>\n",
       "      <td>44</td>\n",
       "      <td>0</td>\n",
       "    </tr>\n",
       "    <tr>\n",
       "      <th>9.0</th>\n",
       "      <td>19</td>\n",
       "      <td>55</td>\n",
       "      <td>1307</td>\n",
       "      <td>13565</td>\n",
       "      <td>423</td>\n",
       "      <td>3</td>\n",
       "    </tr>\n",
       "    <tr>\n",
       "      <th>10.0</th>\n",
       "      <td>8</td>\n",
       "      <td>13</td>\n",
       "      <td>465</td>\n",
       "      <td>7284</td>\n",
       "      <td>223</td>\n",
       "      <td>1</td>\n",
       "    </tr>\n",
       "  </tbody>\n",
       "</table>\n",
       "</div>"
      ],
      "text/plain": [
       "GESTACAO  22 a 27 semanas  28 a 31 semanas  32 a 36 semanas  37 a 41 semanas  \\\n",
       "APGAR5                                                                         \n",
       "0.0                     7                0                2                5   \n",
       "1.0                     0                0                2               20   \n",
       "2.0                     8                2                2                3   \n",
       "3.0                     6                1                2                5   \n",
       "4.0                     1                5                8                7   \n",
       "5.0                     0                7               11               21   \n",
       "6.0                     2                7               17               45   \n",
       "7.0                    10               11               56              151   \n",
       "8.0                    24               61              362             1417   \n",
       "9.0                    19               55             1307            13565   \n",
       "10.0                    8               13              465             7284   \n",
       "\n",
       "GESTACAO  42 semanas e mais  Menos de 22 semanas  \n",
       "APGAR5                                            \n",
       "0.0                       1                    1  \n",
       "1.0                       0                    0  \n",
       "2.0                       0                    1  \n",
       "3.0                       0                    0  \n",
       "4.0                       0                    0  \n",
       "5.0                       1                    0  \n",
       "6.0                       1                    0  \n",
       "7.0                       5                    1  \n",
       "8.0                      44                    0  \n",
       "9.0                     423                    3  \n",
       "10.0                    223                    1  "
      ]
     },
     "execution_count": 6,
     "metadata": {},
     "output_type": "execute_result"
    }
   ],
   "source": [
    "freq = pd.crosstab(sinasc['APGAR5'], sinasc['GESTACAO'])\n",
    "freq"
   ]
  },
  {
   "cell_type": "markdown",
   "metadata": {},
   "source": [
    "####  5) Da tabela cruzada do intem anterior, calcule os percentuais de linha. Ou seja, a distribuição da variável APGAR5 para cada classe de GESTACAO dado."
   ]
  },
  {
   "cell_type": "code",
   "execution_count": 7,
   "metadata": {},
   "outputs": [
    {
     "data": {
      "text/plain": [
       "APGAR5\n",
       "0.0        16\n",
       "1.0        22\n",
       "2.0        16\n",
       "3.0        14\n",
       "4.0        21\n",
       "5.0        40\n",
       "6.0        72\n",
       "7.0       234\n",
       "8.0      1908\n",
       "9.0     15372\n",
       "10.0     7994\n",
       "dtype: int64"
      ]
     },
     "execution_count": 7,
     "metadata": {},
     "output_type": "execute_result"
    }
   ],
   "source": [
    "freq.sum(axis = 1)"
   ]
  },
  {
   "cell_type": "code",
   "execution_count": 16,
   "metadata": {},
   "outputs": [
    {
     "data": {
      "text/html": [
       "<div>\n",
       "<style scoped>\n",
       "    .dataframe tbody tr th:only-of-type {\n",
       "        vertical-align: middle;\n",
       "    }\n",
       "\n",
       "    .dataframe tbody tr th {\n",
       "        vertical-align: top;\n",
       "    }\n",
       "\n",
       "    .dataframe thead th {\n",
       "        text-align: right;\n",
       "    }\n",
       "</style>\n",
       "<table border=\"1\" class=\"dataframe\">\n",
       "  <thead>\n",
       "    <tr style=\"text-align: right;\">\n",
       "      <th>GESTACAO</th>\n",
       "      <th>22 a 27 semanas</th>\n",
       "      <th>28 a 31 semanas</th>\n",
       "      <th>32 a 36 semanas</th>\n",
       "      <th>37 a 41 semanas</th>\n",
       "      <th>42 semanas e mais</th>\n",
       "      <th>Menos de 22 semanas</th>\n",
       "    </tr>\n",
       "    <tr>\n",
       "      <th>APGAR5</th>\n",
       "      <th></th>\n",
       "      <th></th>\n",
       "      <th></th>\n",
       "      <th></th>\n",
       "      <th></th>\n",
       "      <th></th>\n",
       "    </tr>\n",
       "  </thead>\n",
       "  <tbody>\n",
       "    <tr>\n",
       "      <th>0.0</th>\n",
       "      <td>0.082353</td>\n",
       "      <td>0.000000</td>\n",
       "      <td>0.000895</td>\n",
       "      <td>0.000222</td>\n",
       "      <td>0.001433</td>\n",
       "      <td>0.142857</td>\n",
       "    </tr>\n",
       "    <tr>\n",
       "      <th>1.0</th>\n",
       "      <td>0.000000</td>\n",
       "      <td>0.000000</td>\n",
       "      <td>0.000895</td>\n",
       "      <td>0.000888</td>\n",
       "      <td>0.000000</td>\n",
       "      <td>0.000000</td>\n",
       "    </tr>\n",
       "    <tr>\n",
       "      <th>2.0</th>\n",
       "      <td>0.094118</td>\n",
       "      <td>0.012346</td>\n",
       "      <td>0.000895</td>\n",
       "      <td>0.000133</td>\n",
       "      <td>0.000000</td>\n",
       "      <td>0.142857</td>\n",
       "    </tr>\n",
       "    <tr>\n",
       "      <th>3.0</th>\n",
       "      <td>0.070588</td>\n",
       "      <td>0.006173</td>\n",
       "      <td>0.000895</td>\n",
       "      <td>0.000222</td>\n",
       "      <td>0.000000</td>\n",
       "      <td>0.000000</td>\n",
       "    </tr>\n",
       "    <tr>\n",
       "      <th>4.0</th>\n",
       "      <td>0.011765</td>\n",
       "      <td>0.030864</td>\n",
       "      <td>0.003581</td>\n",
       "      <td>0.000311</td>\n",
       "      <td>0.000000</td>\n",
       "      <td>0.000000</td>\n",
       "    </tr>\n",
       "    <tr>\n",
       "      <th>5.0</th>\n",
       "      <td>0.000000</td>\n",
       "      <td>0.043210</td>\n",
       "      <td>0.004924</td>\n",
       "      <td>0.000932</td>\n",
       "      <td>0.001433</td>\n",
       "      <td>0.000000</td>\n",
       "    </tr>\n",
       "    <tr>\n",
       "      <th>6.0</th>\n",
       "      <td>0.023529</td>\n",
       "      <td>0.043210</td>\n",
       "      <td>0.007610</td>\n",
       "      <td>0.001998</td>\n",
       "      <td>0.001433</td>\n",
       "      <td>0.000000</td>\n",
       "    </tr>\n",
       "    <tr>\n",
       "      <th>7.0</th>\n",
       "      <td>0.117647</td>\n",
       "      <td>0.067901</td>\n",
       "      <td>0.025067</td>\n",
       "      <td>0.006704</td>\n",
       "      <td>0.007163</td>\n",
       "      <td>0.142857</td>\n",
       "    </tr>\n",
       "    <tr>\n",
       "      <th>8.0</th>\n",
       "      <td>0.282353</td>\n",
       "      <td>0.376543</td>\n",
       "      <td>0.162041</td>\n",
       "      <td>0.062913</td>\n",
       "      <td>0.063037</td>\n",
       "      <td>0.000000</td>\n",
       "    </tr>\n",
       "    <tr>\n",
       "      <th>9.0</th>\n",
       "      <td>0.223529</td>\n",
       "      <td>0.339506</td>\n",
       "      <td>0.585049</td>\n",
       "      <td>0.602273</td>\n",
       "      <td>0.606017</td>\n",
       "      <td>0.428571</td>\n",
       "    </tr>\n",
       "    <tr>\n",
       "      <th>10.0</th>\n",
       "      <td>0.094118</td>\n",
       "      <td>0.080247</td>\n",
       "      <td>0.208147</td>\n",
       "      <td>0.323403</td>\n",
       "      <td>0.319484</td>\n",
       "      <td>0.142857</td>\n",
       "    </tr>\n",
       "  </tbody>\n",
       "</table>\n",
       "</div>"
      ],
      "text/plain": [
       "GESTACAO  22 a 27 semanas  28 a 31 semanas  32 a 36 semanas  37 a 41 semanas  \\\n",
       "APGAR5                                                                         \n",
       "0.0              0.082353         0.000000         0.000895         0.000222   \n",
       "1.0              0.000000         0.000000         0.000895         0.000888   \n",
       "2.0              0.094118         0.012346         0.000895         0.000133   \n",
       "3.0              0.070588         0.006173         0.000895         0.000222   \n",
       "4.0              0.011765         0.030864         0.003581         0.000311   \n",
       "5.0              0.000000         0.043210         0.004924         0.000932   \n",
       "6.0              0.023529         0.043210         0.007610         0.001998   \n",
       "7.0              0.117647         0.067901         0.025067         0.006704   \n",
       "8.0              0.282353         0.376543         0.162041         0.062913   \n",
       "9.0              0.223529         0.339506         0.585049         0.602273   \n",
       "10.0             0.094118         0.080247         0.208147         0.323403   \n",
       "\n",
       "GESTACAO  42 semanas e mais  Menos de 22 semanas  \n",
       "APGAR5                                            \n",
       "0.0                0.001433             0.142857  \n",
       "1.0                0.000000             0.000000  \n",
       "2.0                0.000000             0.142857  \n",
       "3.0                0.000000             0.000000  \n",
       "4.0                0.000000             0.000000  \n",
       "5.0                0.001433             0.000000  \n",
       "6.0                0.001433             0.000000  \n",
       "7.0                0.007163             0.142857  \n",
       "8.0                0.063037             0.000000  \n",
       "9.0                0.606017             0.428571  \n",
       "10.0               0.319484             0.142857  "
      ]
     },
     "execution_count": 16,
     "metadata": {},
     "output_type": "execute_result"
    }
   ],
   "source": [
    "# frequencia, estamos analisando qual a porcentagem de criaças nascidas com APGAR5 para cada periodo.\n",
    "freq_pctlin = freq.div(freq.sum(axis = 0), axis = 1)\n",
    "freq_pctlin"
   ]
  },
  {
   "cell_type": "code",
   "execution_count": 18,
   "metadata": {},
   "outputs": [
    {
     "data": {
      "text/plain": [
       "GESTACAO\n",
       "22 a 27 semanas        1.0\n",
       "28 a 31 semanas        1.0\n",
       "32 a 36 semanas        1.0\n",
       "37 a 41 semanas        1.0\n",
       "42 semanas e mais      1.0\n",
       "Menos de 22 semanas    1.0\n",
       "dtype: float64"
      ]
     },
     "execution_count": 18,
     "metadata": {},
     "output_type": "execute_result"
    }
   ],
   "source": [
    "#verificando se a frequencia esta certa\n",
    "freq_pctlin.sum(axis = 0)"
   ]
  },
  {
   "cell_type": "markdown",
   "metadata": {},
   "source": [
    "####  6) Os médicos costumam classificar parto prematuro quando a gestação tem menos que 37 semanas. Faça um gráfico de barras da tabela cruzada acima e conclua se você acha que este conjunto de dados corrobora ou não com a afirmação dos médicos."
   ]
  },
  {
   "cell_type": "code",
   "execution_count": 19,
   "metadata": {
    "scrolled": true
   },
   "outputs": [
    {
     "data": {
      "text/html": [
       "<div>\n",
       "<style scoped>\n",
       "    .dataframe tbody tr th:only-of-type {\n",
       "        vertical-align: middle;\n",
       "    }\n",
       "\n",
       "    .dataframe tbody tr th {\n",
       "        vertical-align: top;\n",
       "    }\n",
       "\n",
       "    .dataframe thead th {\n",
       "        text-align: right;\n",
       "    }\n",
       "</style>\n",
       "<table border=\"1\" class=\"dataframe\">\n",
       "  <thead>\n",
       "    <tr style=\"text-align: right;\">\n",
       "      <th>APGAR5</th>\n",
       "      <th>0.0</th>\n",
       "      <th>1.0</th>\n",
       "      <th>2.0</th>\n",
       "      <th>3.0</th>\n",
       "      <th>4.0</th>\n",
       "      <th>5.0</th>\n",
       "      <th>6.0</th>\n",
       "      <th>7.0</th>\n",
       "      <th>8.0</th>\n",
       "      <th>9.0</th>\n",
       "      <th>10.0</th>\n",
       "    </tr>\n",
       "    <tr>\n",
       "      <th>GESTACAO</th>\n",
       "      <th></th>\n",
       "      <th></th>\n",
       "      <th></th>\n",
       "      <th></th>\n",
       "      <th></th>\n",
       "      <th></th>\n",
       "      <th></th>\n",
       "      <th></th>\n",
       "      <th></th>\n",
       "      <th></th>\n",
       "      <th></th>\n",
       "    </tr>\n",
       "  </thead>\n",
       "  <tbody>\n",
       "    <tr>\n",
       "      <th>22 a 27 semanas</th>\n",
       "      <td>0.082353</td>\n",
       "      <td>0.000000</td>\n",
       "      <td>0.094118</td>\n",
       "      <td>0.070588</td>\n",
       "      <td>0.011765</td>\n",
       "      <td>0.000000</td>\n",
       "      <td>0.023529</td>\n",
       "      <td>0.117647</td>\n",
       "      <td>0.282353</td>\n",
       "      <td>0.223529</td>\n",
       "      <td>0.094118</td>\n",
       "    </tr>\n",
       "    <tr>\n",
       "      <th>28 a 31 semanas</th>\n",
       "      <td>0.000000</td>\n",
       "      <td>0.000000</td>\n",
       "      <td>0.012346</td>\n",
       "      <td>0.006173</td>\n",
       "      <td>0.030864</td>\n",
       "      <td>0.043210</td>\n",
       "      <td>0.043210</td>\n",
       "      <td>0.067901</td>\n",
       "      <td>0.376543</td>\n",
       "      <td>0.339506</td>\n",
       "      <td>0.080247</td>\n",
       "    </tr>\n",
       "    <tr>\n",
       "      <th>32 a 36 semanas</th>\n",
       "      <td>0.000895</td>\n",
       "      <td>0.000895</td>\n",
       "      <td>0.000895</td>\n",
       "      <td>0.000895</td>\n",
       "      <td>0.003581</td>\n",
       "      <td>0.004924</td>\n",
       "      <td>0.007610</td>\n",
       "      <td>0.025067</td>\n",
       "      <td>0.162041</td>\n",
       "      <td>0.585049</td>\n",
       "      <td>0.208147</td>\n",
       "    </tr>\n",
       "    <tr>\n",
       "      <th>37 a 41 semanas</th>\n",
       "      <td>0.000222</td>\n",
       "      <td>0.000888</td>\n",
       "      <td>0.000133</td>\n",
       "      <td>0.000222</td>\n",
       "      <td>0.000311</td>\n",
       "      <td>0.000932</td>\n",
       "      <td>0.001998</td>\n",
       "      <td>0.006704</td>\n",
       "      <td>0.062913</td>\n",
       "      <td>0.602273</td>\n",
       "      <td>0.323403</td>\n",
       "    </tr>\n",
       "    <tr>\n",
       "      <th>42 semanas e mais</th>\n",
       "      <td>0.001433</td>\n",
       "      <td>0.000000</td>\n",
       "      <td>0.000000</td>\n",
       "      <td>0.000000</td>\n",
       "      <td>0.000000</td>\n",
       "      <td>0.001433</td>\n",
       "      <td>0.001433</td>\n",
       "      <td>0.007163</td>\n",
       "      <td>0.063037</td>\n",
       "      <td>0.606017</td>\n",
       "      <td>0.319484</td>\n",
       "    </tr>\n",
       "    <tr>\n",
       "      <th>Menos de 22 semanas</th>\n",
       "      <td>0.142857</td>\n",
       "      <td>0.000000</td>\n",
       "      <td>0.142857</td>\n",
       "      <td>0.000000</td>\n",
       "      <td>0.000000</td>\n",
       "      <td>0.000000</td>\n",
       "      <td>0.000000</td>\n",
       "      <td>0.142857</td>\n",
       "      <td>0.000000</td>\n",
       "      <td>0.428571</td>\n",
       "      <td>0.142857</td>\n",
       "    </tr>\n",
       "  </tbody>\n",
       "</table>\n",
       "</div>"
      ],
      "text/plain": [
       "APGAR5                   0.0       1.0       2.0       3.0       4.0   \\\n",
       "GESTACAO                                                                \n",
       "22 a 27 semanas      0.082353  0.000000  0.094118  0.070588  0.011765   \n",
       "28 a 31 semanas      0.000000  0.000000  0.012346  0.006173  0.030864   \n",
       "32 a 36 semanas      0.000895  0.000895  0.000895  0.000895  0.003581   \n",
       "37 a 41 semanas      0.000222  0.000888  0.000133  0.000222  0.000311   \n",
       "42 semanas e mais    0.001433  0.000000  0.000000  0.000000  0.000000   \n",
       "Menos de 22 semanas  0.142857  0.000000  0.142857  0.000000  0.000000   \n",
       "\n",
       "APGAR5                   5.0       6.0       7.0       8.0       9.0   \\\n",
       "GESTACAO                                                                \n",
       "22 a 27 semanas      0.000000  0.023529  0.117647  0.282353  0.223529   \n",
       "28 a 31 semanas      0.043210  0.043210  0.067901  0.376543  0.339506   \n",
       "32 a 36 semanas      0.004924  0.007610  0.025067  0.162041  0.585049   \n",
       "37 a 41 semanas      0.000932  0.001998  0.006704  0.062913  0.602273   \n",
       "42 semanas e mais    0.001433  0.001433  0.007163  0.063037  0.606017   \n",
       "Menos de 22 semanas  0.000000  0.000000  0.142857  0.000000  0.428571   \n",
       "\n",
       "APGAR5                   10.0  \n",
       "GESTACAO                       \n",
       "22 a 27 semanas      0.094118  \n",
       "28 a 31 semanas      0.080247  \n",
       "32 a 36 semanas      0.208147  \n",
       "37 a 41 semanas      0.323403  \n",
       "42 semanas e mais    0.319484  \n",
       "Menos de 22 semanas  0.142857  "
      ]
     },
     "execution_count": 19,
     "metadata": {},
     "output_type": "execute_result"
    }
   ],
   "source": [
    "freq_pctlin_transpose = freq_pctlin.T\n",
    "freq_pctlin_transpose"
   ]
  },
  {
   "cell_type": "code",
   "execution_count": 20,
   "metadata": {
    "scrolled": true
   },
   "outputs": [
    {
     "data": {
      "text/plain": [
       "<AxesSubplot:xlabel='GESTACAO'>"
      ]
     },
     "execution_count": 20,
     "metadata": {},
     "output_type": "execute_result"
    },
    {
     "data": {
      "image/png": "[encoded data removed]",
      "text/plain": [
       "<Figure size 640x480 with 1 Axes>"
      ]
     },
     "metadata": {},
     "output_type": "display_data"
    }
   ],
   "source": [
    "freq_pctlin_transpose.plot.bar()"
   ]
  },
  {
   "cell_type": "markdown",
   "metadata": {},
   "source": [
    "De acordo com o grafico que fizemos, antes de 37 semanas a quantidade de crianças que tiveram sintomas de asfixia é maior. "
   ]
  },
  {
   "cell_type": "markdown",
   "metadata": {},
   "source": [
    "#### 7) Veja se há relação entre APGAR5 e o peso do bebê. Isso pode ser feito de diversas formas. Fique à vontade para escolher a melhor maneira na sua opinião, ou até testar mais de um dos gráficos que vimos. Fique à vontade também para consultar a documentação e utilizar algum outro recurso se achar conveniente."
   ]
  },
  {
   "cell_type": "code",
   "execution_count": 27,
   "metadata": {},
   "outputs": [],
   "source": [
    "pesos_acima_de_zero = sinasc['PESO'] > 0\n",
    "sinasc_filtrado = sinasc[pesos_acima_de_zero]"
   ]
  },
  {
   "cell_type": "code",
   "execution_count": 28,
   "metadata": {},
   "outputs": [
    {
     "data": {
      "text/plain": [
       "<AxesSubplot:xlabel='APGAR5', ylabel='PESO'>"
      ]
     },
     "execution_count": 28,
     "metadata": {},
     "output_type": "execute_result"
    },
    {
     "data": {
      "image/png": "[encoded data removed]",
      "text/plain": [
       "<Figure size 640x480 with 1 Axes>"
      ]
     },
     "metadata": {},
     "output_type": "display_data"
    }
   ],
   "source": [
    "sns.violinplot(data=sinasc_filtrado, x='APGAR5', y='PESO', subset=pesos_acima_de_zero)"
   ]
  },
  {
   "cell_type": "markdown",
   "metadata": {},
   "source": [
    "Com o grafico de violino é possivel ver que existe uma tendencia de que quando a criança tem um peso muito baixo o APGAR5 é menor."
   ]
  }
 ],
 "metadata": {
  "kernelspec": {
   "display_name": "Python 3 (ipykernel)",
   "language": "python",
   "name": "python3"
  },
  "language_info": {
   "codemirror_mode": {
    "name": "ipython",
    "version": 3
   },
   "file_extension": ".py",
   "mimetype": "text/x-python",
   "name": "python",
   "nbconvert_exporter": "python",
   "pygments_lexer": "ipython3",
   "version": "3.9.13"
  }
 },
 "nbformat": 4,
 "nbformat_minor": 4
}
